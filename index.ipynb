{
 "cells": [
  {
   "cell_type": "code",
   "execution_count": 16,
   "metadata": {},
   "outputs": [
    {
     "data": {
      "text/plain": [
       "True"
      ]
     },
     "execution_count": 16,
     "metadata": {},
     "output_type": "execute_result"
    }
   ],
   "source": [
    "from dotenv import load_dotenv, find_dotenv\n",
    "load_dotenv(find_dotenv())"
   ]
  },
  {
   "cell_type": "code",
   "execution_count": 17,
   "metadata": {},
   "outputs": [],
   "source": [
    "from langchain_community.llms import Ollama\n",
    "from langchain.callbacks.manager import CallbackManager\n",
    "from langchain.callbacks.streaming_stdout import StreamingStdOutCallbackHandler\n",
    "llm = Ollama(model=\"mistral\", temperature=0.9, callback_manager=CallbackManager([StreamingStdOutCallbackHandler()]))"
   ]
  },
  {
   "cell_type": "code",
   "execution_count": 18,
   "metadata": {},
   "outputs": [],
   "source": [
    "# prompt\n",
    "from langchain.prompts import PromptTemplate\n",
    "prompt = PromptTemplate(\n",
    "  input_variables=[\"topic\"],\n",
    "  template=\"Give me 5 interesting facts about {topic}.\",\n",
    ")"
   ]
  },
  {
   "cell_type": "code",
   "execution_count": 19,
   "metadata": {},
   "outputs": [],
   "source": [
    "# chain\n",
    "from langchain.chains import LLMChain\n",
    "chain = LLMChain(\n",
    "  llm=llm,\n",
    "  prompt=prompt\n",
    ")"
   ]
  },
  {
   "cell_type": "code",
   "execution_count": 20,
   "metadata": {},
   "outputs": [
    {
     "name": "stdout",
     "output_type": "stream",
     "text": [
      " 1. Dogs are man's best friend: This is more than just a popular saying! Research shows that owning a dog can improve your mood, reduce stress, and even lower your risk of heart disease. They are also incredibly loyal companions, forming strong bonds with their human families.\n",
      "\n",
      "2. Dogs have an exceptional sense of smell: A dog's nose is far more sensitive than a human's, with up to 300 million scent receptors in their noses compared to the 5 million humans typically have. This makes dogs excellent detectives when it comes to tracking, searching for missing people or animals, and even finding things like explosives or drugs.\n",
      "\n",
      "3. Dogs dream: Have you ever noticed your dog twitching or barking during sleep? They might be chasing rabbits in their dreams! Dogs experience REM (rapid eye movement) sleep, which is associated with dreaming in humans and animals alike.\n",
      "\n",
      "4. A dog's tail has a unique purpose: A dog's tail serves multiple functions – communication, balance, and even as an additional means of cooling down. Dogs use their tails to express emotions such as excitement or aggression, help them maintain balance while running or turning sharply, and even to regulate body temperature by wagging it back and forth to fan air over their bodies.\n",
      "\n",
      "5. Dogs were one of the first animals domesticated by humans: Archaeological evidence suggests that dogs were one of the earliest animals to be domesticated, dating back around 15,000 to 40,000 years ago. It is believed that humans began keeping dogs for their protective abilities and as hunting companions. Today, there are over 300 different breeds of dogs recognized by various kennel clubs around the world!"
     ]
    },
    {
     "data": {
      "text/plain": [
       "\" 1. Dogs are man's best friend: This is more than just a popular saying! Research shows that owning a dog can improve your mood, reduce stress, and even lower your risk of heart disease. They are also incredibly loyal companions, forming strong bonds with their human families.\\n\\n2. Dogs have an exceptional sense of smell: A dog's nose is far more sensitive than a human's, with up to 300 million scent receptors in their noses compared to the 5 million humans typically have. This makes dogs excellent detectives when it comes to tracking, searching for missing people or animals, and even finding things like explosives or drugs.\\n\\n3. Dogs dream: Have you ever noticed your dog twitching or barking during sleep? They might be chasing rabbits in their dreams! Dogs experience REM (rapid eye movement) sleep, which is associated with dreaming in humans and animals alike.\\n\\n4. A dog's tail has a unique purpose: A dog's tail serves multiple functions – communication, balance, and even as an additional means of cooling down. Dogs use their tails to express emotions such as excitement or aggression, help them maintain balance while running or turning sharply, and even to regulate body temperature by wagging it back and forth to fan air over their bodies.\\n\\n5. Dogs were one of the first animals domesticated by humans: Archaeological evidence suggests that dogs were one of the earliest animals to be domesticated, dating back around 15,000 to 40,000 years ago. It is believed that humans began keeping dogs for their protective abilities and as hunting companions. Today, there are over 300 different breeds of dogs recognized by various kennel clubs around the world!\""
      ]
     },
     "execution_count": 20,
     "metadata": {},
     "output_type": "execute_result"
    }
   ],
   "source": [
    "# call chain\n",
    "chain.run(topic=\"dogs\")"
   ]
  }
 ],
 "metadata": {
  "kernelspec": {
   "display_name": "Python 3",
   "language": "python",
   "name": "python3"
  },
  "language_info": {
   "codemirror_mode": {
    "name": "ipython",
    "version": 3
   },
   "file_extension": ".py",
   "mimetype": "text/x-python",
   "name": "python",
   "nbconvert_exporter": "python",
   "pygments_lexer": "ipython3",
   "version": "3.12.1"
  }
 },
 "nbformat": 4,
 "nbformat_minor": 2
}
